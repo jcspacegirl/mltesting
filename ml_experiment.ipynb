{
 "cells": [
  {
   "cell_type": "markdown",
   "id": "64cf9f6c-0b06-4abb-8176-cba2c73ea0ea",
   "metadata": {},
   "source": [
    "Work done by Janice Lee 20009280\n",
    "\n",
    "I am using convolutional neural network to recognise patterns within images of the 4 classes (bicycles, cars, deer, mountains). \n",
    "\n",
    "For references I have used includes:\n",
    "- https://keras.io/api/data_loading/image/\n",
    "- https://keras.io/api/layers/preprocessing_layers/\n",
    "- https://keras.io/guides/sequential_model/\n",
    "- https://medium.com/nerd-for-tech/ways-to-build-keras-models-198f6a643944 for analysis"
   ]
  },
  {
   "cell_type": "code",
   "execution_count": 23,
   "id": "92ccb5e8-11d9-4910-a14f-a897db61c1cf",
   "metadata": {},
   "outputs": [],
   "source": [
    "# Tensorflow (keras) to perform all my machine learning tasks \n",
    "# Matplotlib to plot my results for a better understanding about the accuracy/loss\n",
    "import os\n",
    "import numpy as np\n",
    "import tensorflow as tf\n",
    "from tensorflow import keras\n",
    "from tensorflow.keras import layers\n",
    "from tensorflow.keras.models import Sequential\n",
    "from tensorflow.keras.callbacks import ModelCheckpoint, EarlyStopping\n",
    "from sklearn.utils import class_weight\n",
    "import matplotlib.pyplot as plt"
   ]
  },
  {
   "cell_type": "code",
   "execution_count": 10,
   "id": "6eef36ff-297a-4b43-9f72-f8452b738e80",
   "metadata": {},
   "outputs": [
    {
     "name": "stdout",
     "output_type": "stream",
     "text": [
      "Deleted 0 images\n"
     ]
    }
   ],
   "source": [
    "# IMAGE PREPROCESSING\n",
    "\n",
    "# Remove all corrupted images in images folder\n",
    "# Initialise a counter to track the number of deleted images\n",
    "num_skipped = 0\n",
    "# Navigate through all directories/files in './images/'\n",
    "for root, dirs, files in os.walk(\"./images/\"):\n",
    "    # Iterate through each file in the current directory\n",
    "    for file in files:\n",
    "        # Split the filename into the name and extension\n",
    "        _, extension = os.path.splitext(file)\n",
    "        # Check if the file extension is '.jpg'\n",
    "        if extension == \".jpg\":\n",
    "            filepath = os.path.join(root, file)\n",
    "            try:\n",
    "                # Open the image file in binary read mode\n",
    "                fobj = open(filepath, \"rb\")\n",
    "                # Check if the first 10 bytes contain 'JFIF' (JPEG File Interchange Format)\n",
    "                is_jfif = tf.compat.as_bytes(\"JFIF\") in fobj.peek(10)\n",
    "            finally:\n",
    "                fobj.close()\n",
    "                # Ensure the file is closed after checking\n",
    "\n",
    "            if not is_jfif:\n",
    "                # If the file does not conform to JPEG standards (not 'JFIF')\n",
    "                # Increment the deleted images counter\n",
    "                num_skipped += 1\n",
    "                # Delete the corrupted or non-JPEG image file\n",
    "                os.remove(filepath)\n",
    "\n",
    "# Print the total number of images deleted\n",
    "print(\"Deleted %d images\" % num_skipped)"
   ]
  },
  {
   "cell_type": "code",
   "execution_count": 11,
   "id": "b1c7cd37-c164-4385-bce0-a55c3cbb62e2",
   "metadata": {},
   "outputs": [],
   "source": [
    "# DATA AUGMENTATION \n",
    "\n",
    "data_augmentation = keras.Sequential([\n",
    "    # Apply random horizontal flip to the images\n",
    "    layers.RandomFlip(\"horizontal\"),\n",
    "    # Randomly rotate the images by 0 to 10% of 360 degrees\n",
    "    layers.RandomRotation(0.1),\n",
    "    # Randomly change the height of the images by up to ±10%\n",
    "    layers.RandomHeight(0.1),\n",
    "    # Randomly change the width of the images by up to ±10%\n",
    "    layers.RandomWidth(0.1),\n",
    "])"
   ]
  },
  {
   "cell_type": "markdown",
   "id": "339bbbbc-c68b-4e94-9699-fbdbc9137932",
   "metadata": {},
   "source": [
    "Data Augmentation is implementated to the images in the images folder:\n",
    "This method increases the diversity of a training dataset by applying transformations like rotation, flipping, and scaling to the images in 'images' folder. It reduces overfitting and improving overall performance, especially in situations where obtaining more training data is difficult."
   ]
  },
  {
   "cell_type": "code",
   "execution_count": 12,
   "id": "01a492a4-9cc1-416f-b89d-9477f308fb15",
   "metadata": {},
   "outputs": [
    {
     "name": "stdout",
     "output_type": "stream",
     "text": [
      "Found 776 files belonging to 4 classes.\n",
      "Using 699 files for training.\n",
      "Found 776 files belonging to 4 classes.\n",
      "Using 77 files for validation.\n"
     ]
    }
   ],
   "source": [
    "# CREATING A DATASET\n",
    "\n",
    "images_path = \"./images/\"\n",
    "# Creating a dataset for training from the images in the specified directory\n",
    "training_dataset = keras.preprocessing.image_dataset_from_directory(\n",
    "    images_path,\n",
    "    # Labels retrieved from the directory structure\n",
    "    labels='inferred',\n",
    "    # 1. Choosing categorical because there is a multi-class labels: I have a dataset that holds 4 classes (bicycles, cars, deer and mountains), each label is representated as a one-hot encoded vector\n",
    "    # 2. Choosing categorical because categorical labeling clearly differentiates between classes, which are unlike binary labels, which can only represent 2 classes and categorical labels represent multiple distint classes\n",
    "    label_mode='categorical',\n",
    "    # Images have colour in them, so red green blue channels\n",
    "    color_mode=\"rgb\",\n",
    "    # Set batch size to 24, to main consistency, as it provided the best balance of performance and accuracy\n",
    "    batch_size=24,\n",
    "    # 1. Set each image size to (150, 150) pixel size as the dataset has a range of formats \n",
    "    # 2. Set each image size to (150, 150) so all images are at the same size consistently \n",
    "    image_size=(150, 150),\n",
    "    # Allocate 90% of the data for training, based on the validation split\n",
    "    subset=\"training\",\n",
    "    # Remaining 10% of the dataset checks how well the model is performing in terms of the accuracy value \n",
    "    # The validation accuracy is to show how well the model is capable when learning new data\n",
    "    validation_split=0.1,\n",
    "    # Shuffle the dataset to prevent the model from overfitting and recognising learning order-specific patterns \n",
    "    shuffle=True,\n",
    "    # Set a seed for reproducibility in shuffling and splitting the dataset\n",
    "    seed=1\n",
    ")\n",
    "\n",
    "# Create a dataset for validation from the same directory\n",
    "test_dataset = keras.preprocessing.image_dataset_from_directory(\n",
    "    images_path,\n",
    "    labels='inferred',\n",
    "    label_mode='categorical',\n",
    "    color_mode=\"rgb\",\n",
    "    batch_size=24,\n",
    "    image_size=(150, 150),\n",
    "    subset=\"validation\",\n",
    "    validation_split=0.1,\n",
    "    shuffle=True,\n",
    "    seed=1\n",
    ")"
   ]
  },
  {
   "cell_type": "markdown",
   "id": "144bfc61-1ece-451d-a919-e89954e1fdf1",
   "metadata": {},
   "source": [
    "There are four folders in our 'images' folder, and this process loads images and utilises the directory structure to define the classes, while also dividing the data into separate training and validation datasets"
   ]
  },
  {
   "cell_type": "code",
   "execution_count": 13,
   "id": "d959aa27-dad4-46b0-a95b-ef797d853271",
   "metadata": {},
   "outputs": [],
   "source": [
    "# Applying data augmentation to the training dataset\n",
    "augmented_train_dataset = training_dataset.map(lambda x, y: (data_augmentation(x, training=True), y))"
   ]
  },
  {
   "cell_type": "code",
   "execution_count": 14,
   "id": "f75e92de-d1f1-4e6e-ba2c-8c5a2bc3cbd7",
   "metadata": {},
   "outputs": [],
   "source": [
    "# DATA NORMALISATION\n",
    "\n",
    "# Define the normalisation layer and applying it to the dataset\n",
    "# 1. Normalisation process is necessary from scaling pixel values: Images contain pixels which ranges from 0 to 255, the normalisation layer rescales this to 0 and 1 by deviding each pixel by 255\n",
    "# 2. Normalisation process is necessary to improve the model training, by keeping it 0 and 1 it helps speed up the training process, neural networks converge faster when input data is normalised\n",
    "# 3. Normalisation process is necessary to minimise internal convariate shift, this is the change in the distribution of network activations because of updates in network parameters\n",
    "normalization_layer = tf.keras.layers.experimental.preprocessing.Rescaling(1./255)\n",
    "# Apply the normalisation layer to each image in the augmented training dataset\n",
    "normalized_train_dataset = augmented_train_dataset.map(lambda x, y: (normalization_layer(x), y))\n",
    "# Apply the normalisation layer to each image in the test dataset\n",
    "normalized_test_dataset = test_dataset.map(lambda x, y: (normalization_layer(x), y))"
   ]
  },
  {
   "cell_type": "code",
   "execution_count": 33,
   "id": "c1106a96-75f0-4496-af9d-80ab904393ca",
   "metadata": {},
   "outputs": [
    {
     "name": "stdout",
     "output_type": "stream",
     "text": [
      "Model: \"sequential_5\"\n",
      "_________________________________________________________________\n",
      " Layer (type)                Output Shape              Param #   \n",
      "=================================================================\n",
      " conv2d_9 (Conv2D)           (None, 148, 148, 32)      896       \n",
      "                                                                 \n",
      " max_pooling2d_9 (MaxPoolin  (None, 74, 74, 32)        0         \n",
      " g2D)                                                            \n",
      "                                                                 \n",
      " conv2d_10 (Conv2D)          (None, 72, 72, 64)        18496     \n",
      "                                                                 \n",
      " max_pooling2d_10 (MaxPooli  (None, 36, 36, 64)        0         \n",
      " ng2D)                                                           \n",
      "                                                                 \n",
      " conv2d_11 (Conv2D)          (None, 34, 34, 128)       73856     \n",
      "                                                                 \n",
      " max_pooling2d_11 (MaxPooli  (None, 17, 17, 128)       0         \n",
      " ng2D)                                                           \n",
      "                                                                 \n",
      " global_average_pooling2d_1  (None, 128)               0         \n",
      "  (GlobalAveragePooling2D)                                       \n",
      "                                                                 \n",
      " dense_6 (Dense)             (None, 128)               16512     \n",
      "                                                                 \n",
      " dropout_3 (Dropout)         (None, 128)               0         \n",
      "                                                                 \n",
      " dense_7 (Dense)             (None, 4)                 516       \n",
      "                                                                 \n",
      "=================================================================\n",
      "Total params: 110276 (430.77 KB)\n",
      "Trainable params: 110276 (430.77 KB)\n",
      "Non-trainable params: 0 (0.00 Byte)\n",
      "_________________________________________________________________\n"
     ]
    }
   ],
   "source": [
    "# MODEL BUILDING\n",
    "\n",
    "# Utilising a sequential model structure as it straightforwardly allows each layer to have a single input and output tensor \n",
    "# This means each layer has exactly one input tensor and one output tensor.\n",
    "model = Sequential([\n",
    "    # Input Layer: Accepts images of size 150x150 pixels with 3 color channels (RGB)\n",
    "    # This means not only specifies the size (height, width, color channels) of input images but also initialises the model's initial weights\n",
    "    layers.Input(shape=(150, 150, 3)),\n",
    "\n",
    "    # This convolutional layer begins the process of feature extraction.\n",
    "    # The first convolutional layer applies 32 filters, each of size 3x3, with ReLU activation. \n",
    "    # Analysing small portions of the image, identifying features like colours and the edges \n",
    "    # The kernel matrix computes the dot product with the input pixels and creates an output matrix representing these features.\n",
    "    # This is the foundation for recognising more complex patterns and shapes in subsequent layers.\n",
    "    layers.Conv2D(32, kernel_size=(3, 3), activation=\"relu\"),\n",
    "\n",
    "    # Followed by a max pooling layer with a 2x2 pool size and a stride of 2 \n",
    "    # This reduces the spatial dimensions (height and width) of the output from the previous layer, helping to reduce computation and control overfitting\n",
    "    layers.MaxPooling2D(pool_size=(2, 2), strides=2),\n",
    "\n",
    "    # A second convolutional layer with 64 filters, each of size 3x3, and ReLU activation. \n",
    "    # This layer captures more complex features\n",
    "    layers.Conv2D(64, kernel_size=(3, 3), activation=\"relu\"),\n",
    "\n",
    "    # Another max pooling layer, further reducing the spatial dimensions of the feature maps\n",
    "    layers.MaxPooling2D(pool_size=(2, 2)),\n",
    "\n",
    "    # A third convolutional layer with 128 filters for even more complex feature extraction\n",
    "    layers.Conv2D(128, kernel_size=(3, 3), activation=\"relu\"),\n",
    "\n",
    "    # A final max pooling layer to reduce spatial dimensions.\n",
    "    layers.MaxPooling2D(pool_size=(2, 2)),\n",
    "\n",
    "    # A global average pooling layer, which averages the spatial dimensions, reducing each feature map to a single number and flattening the output\n",
    "    layers.GlobalAveragePooling2D(),\n",
    "\n",
    "    # A dense layer with 128 units and ReLU activation to interpret the learned features extracted by the convolutional and pooling layers\n",
    "    layers.Dense(128, activation=\"relu\"),\n",
    "\n",
    "    # Dropout Layer: Randomly sets a fraction (50% here) of input units to 0 at each update during training.\n",
    "    # It is a technique to prevent overfitting, especially useful in smaller datasets\n",
    "    layers.Dropout(0.5),\n",
    "\n",
    "    # The final output layer with 4 units (one for each class) and a softmax activation function \n",
    "    # It outputs a probability distribution over the 4 classes for each input image\n",
    "    layers.Dense(4, activation=\"softmax\")\n",
    "])\n",
    "\n",
    "model.summary()\n"
   ]
  },
  {
   "cell_type": "markdown",
   "id": "2de7b20a-67d4-49b2-be4a-39fbdfad99f3",
   "metadata": {},
   "source": [
    "The model initiates with an input layer designed to process images of 150x150 pixels in RGB format, ensuring a standardised input size and color depth for all images for a consistent analysis in convolutional neural network. This model is made of hidden layers collaboratively working to classify the patterns present in images for the four classes (bicycles, cars, deer and mountains). It demonstrates the effectiveness of convolutional neural networks in analysing and identifying contents within images for the purpose of classification.\n",
    "\n",
    "The model has multiple convolutional layers. Each layer has a 3x3 filter — a small matrix that convolves for the image. As it moves over the image, this filter will perform dot products between its values and the pixel values of the image, to encode the different features of the images. The first convolutional layer, with 32 filters, starts by extracting basic patterns like the edges. The next layers, with a higher number of filters (64 and then 128), to figure out more complex features. This hierarchical feature extraction of having hidden layers helps convolutional neural network to dive deeper, analyse and understand more of the different kind of images and distinguish between them. Following each convolutional layer, a max pooling layer is applied. These layers reduce the spatial dimensionality of the data, making sure that the model remains efficient. By extracting only the most main features within a region (done by pooling), they also contribute to the model's ability reduce overfitting and to generalise. The model has a global average pooling layer as a bridge to the dense layers - this means the model uses a layer that summarises the information from the previous layers before it moves on to the next step of processing. It helps making decisions based on the overall trends on the image than individual details. The dense part of the network has a layer with 128 neurons, this is to see if it is capable to interpret the complex patterns by the convolutional layers. This is followed by a dropout layer, which then randomly deactivates 50% of the neurons in this case during training. Mainly to prevent overfitting, especially when working with limited data. Finally, the network holds a dense layer of 4 neurons, each corresponding to one of the classes in the classification task. A softmax activation function is chosen here, transforming the output into a probability distribution across the four classes, to determine the most likely class for a given input image. "
   ]
  },
  {
   "cell_type": "code",
   "execution_count": 20,
   "id": "55215927-a6a2-4c44-ba55-7e21c73c0a13",
   "metadata": {},
   "outputs": [],
   "source": [
    "# MODEL COMPILE\n",
    "# The model is compiled here, setting up the training configuration\n",
    "# Choosing 'adam', for its efficiency in adjusting the learning rate adaptively during the training process through gradient descent\n",
    "# 1. Choosing categorical crossentropy for the loss to deal with multiple classes in our classification\n",
    "# 2. Choosing categorical crossentropy as it effectively measures the discrepancy between the predicted probability distributions and the actual class distribution, aiming to minimize this loss during training.\n",
    "# 'accuracy' to evaluate the performance of the model, to measure of the model's ability to correctly predict those 4 class labels \n",
    "model.compile(optimizer='adam', loss='categorical_crossentropy', metrics=['accuracy'])\n"
   ]
  },
  {
   "cell_type": "code",
   "execution_count": 21,
   "id": "1b3162be-2315-4903-8881-a24dcd9651a3",
   "metadata": {},
   "outputs": [
    {
     "name": "stdout",
     "output_type": "stream",
     "text": [
      "Epoch 1/20\n"
     ]
    },
    {
     "name": "stderr",
     "output_type": "stream",
     "text": [
      "Corrupt JPEG data: 166 extraneous bytes before marker 0xd9\n"
     ]
    },
    {
     "name": "stdout",
     "output_type": "stream",
     "text": [
      "16/30 [===============>..............] - ETA: 4s - loss: 1.2489 - accuracy: 0.5078"
     ]
    },
    {
     "name": "stderr",
     "output_type": "stream",
     "text": [
      "Corrupt JPEG data: 106 extraneous bytes before marker 0xd9\n"
     ]
    },
    {
     "name": "stdout",
     "output_type": "stream",
     "text": [
      "30/30 [==============================] - 12s 306ms/step - loss: 1.2056 - accuracy: 0.5336 - val_loss: 1.1458 - val_accuracy: 0.5455\n",
      "Epoch 2/20\n"
     ]
    },
    {
     "name": "stderr",
     "output_type": "stream",
     "text": [
      "Corrupt JPEG data: 166 extraneous bytes before marker 0xd9\n"
     ]
    },
    {
     "name": "stdout",
     "output_type": "stream",
     "text": [
      "16/30 [===============>..............] - ETA: 4s - loss: 1.1304 - accuracy: 0.5521"
     ]
    },
    {
     "name": "stderr",
     "output_type": "stream",
     "text": [
      "Corrupt JPEG data: 106 extraneous bytes before marker 0xd9\n"
     ]
    },
    {
     "name": "stdout",
     "output_type": "stream",
     "text": [
      "30/30 [==============================] - 11s 293ms/step - loss: 1.1679 - accuracy: 0.5422 - val_loss: 1.1279 - val_accuracy: 0.5455\n",
      "Epoch 3/20\n"
     ]
    },
    {
     "name": "stderr",
     "output_type": "stream",
     "text": [
      "Corrupt JPEG data: 166 extraneous bytes before marker 0xd9\n"
     ]
    },
    {
     "name": "stdout",
     "output_type": "stream",
     "text": [
      "16/30 [===============>..............] - ETA: 4s - loss: 1.1293 - accuracy: 0.5469"
     ]
    },
    {
     "name": "stderr",
     "output_type": "stream",
     "text": [
      "Corrupt JPEG data: 106 extraneous bytes before marker 0xd9\n"
     ]
    },
    {
     "name": "stdout",
     "output_type": "stream",
     "text": [
      "30/30 [==============================] - 11s 281ms/step - loss: 1.1212 - accuracy: 0.5451 - val_loss: 1.1044 - val_accuracy: 0.5455\n",
      "Epoch 4/20\n"
     ]
    },
    {
     "name": "stderr",
     "output_type": "stream",
     "text": [
      "Corrupt JPEG data: 166 extraneous bytes before marker 0xd9\n"
     ]
    },
    {
     "name": "stdout",
     "output_type": "stream",
     "text": [
      "16/30 [===============>..............] - ETA: 4s - loss: 1.1493 - accuracy: 0.5312"
     ]
    },
    {
     "name": "stderr",
     "output_type": "stream",
     "text": [
      "Corrupt JPEG data: 106 extraneous bytes before marker 0xd9\n"
     ]
    },
    {
     "name": "stdout",
     "output_type": "stream",
     "text": [
      "30/30 [==============================] - 11s 285ms/step - loss: 1.1394 - accuracy: 0.5508 - val_loss: 1.3486 - val_accuracy: 0.5455\n",
      "Epoch 5/20\n"
     ]
    },
    {
     "name": "stderr",
     "output_type": "stream",
     "text": [
      "Corrupt JPEG data: 166 extraneous bytes before marker 0xd9\n"
     ]
    },
    {
     "name": "stdout",
     "output_type": "stream",
     "text": [
      "17/30 [================>.............] - ETA: 4s - loss: 1.1349 - accuracy: 0.5343"
     ]
    },
    {
     "name": "stderr",
     "output_type": "stream",
     "text": [
      "Corrupt JPEG data: 106 extraneous bytes before marker 0xd9\n"
     ]
    },
    {
     "name": "stdout",
     "output_type": "stream",
     "text": [
      "30/30 [==============================] - 11s 295ms/step - loss: 1.0872 - accuracy: 0.5508 - val_loss: 1.4068 - val_accuracy: 0.5455\n",
      "Epoch 6/20\n"
     ]
    },
    {
     "name": "stderr",
     "output_type": "stream",
     "text": [
      "Corrupt JPEG data: 166 extraneous bytes before marker 0xd9\n"
     ]
    },
    {
     "name": "stdout",
     "output_type": "stream",
     "text": [
      "16/30 [===============>..............] - ETA: 4s - loss: 1.0717 - accuracy: 0.5885"
     ]
    },
    {
     "name": "stderr",
     "output_type": "stream",
     "text": [
      "Corrupt JPEG data: 106 extraneous bytes before marker 0xd9\n"
     ]
    },
    {
     "name": "stdout",
     "output_type": "stream",
     "text": [
      "30/30 [==============================] - 11s 297ms/step - loss: 1.0698 - accuracy: 0.5837 - val_loss: 1.3080 - val_accuracy: 0.5455\n",
      "Epoch 7/20\n"
     ]
    },
    {
     "name": "stderr",
     "output_type": "stream",
     "text": [
      "Corrupt JPEG data: 166 extraneous bytes before marker 0xd9\n"
     ]
    },
    {
     "name": "stdout",
     "output_type": "stream",
     "text": [
      "16/30 [===============>..............] - ETA: 5s - loss: 1.0543 - accuracy: 0.5911"
     ]
    },
    {
     "name": "stderr",
     "output_type": "stream",
     "text": [
      "Corrupt JPEG data: 106 extraneous bytes before marker 0xd9\n"
     ]
    },
    {
     "name": "stdout",
     "output_type": "stream",
     "text": [
      "30/30 [==============================] - 11s 309ms/step - loss: 1.0385 - accuracy: 0.5980 - val_loss: 1.2241 - val_accuracy: 0.5455\n",
      "Epoch 8/20\n"
     ]
    },
    {
     "name": "stderr",
     "output_type": "stream",
     "text": [
      "Corrupt JPEG data: 166 extraneous bytes before marker 0xd9\n"
     ]
    },
    {
     "name": "stdout",
     "output_type": "stream",
     "text": [
      "16/30 [===============>..............] - ETA: 4s - loss: 1.1112 - accuracy: 0.5339"
     ]
    },
    {
     "name": "stderr",
     "output_type": "stream",
     "text": [
      "Corrupt JPEG data: 106 extraneous bytes before marker 0xd9\n"
     ]
    },
    {
     "name": "stdout",
     "output_type": "stream",
     "text": [
      "30/30 [==============================] - 11s 278ms/step - loss: 1.0535 - accuracy: 0.5923 - val_loss: 1.0461 - val_accuracy: 0.5714\n",
      "Epoch 9/20\n"
     ]
    },
    {
     "name": "stderr",
     "output_type": "stream",
     "text": [
      "Corrupt JPEG data: 166 extraneous bytes before marker 0xd9\n"
     ]
    },
    {
     "name": "stdout",
     "output_type": "stream",
     "text": [
      "16/30 [===============>..............] - ETA: 4s - loss: 1.0312 - accuracy: 0.6068"
     ]
    },
    {
     "name": "stderr",
     "output_type": "stream",
     "text": [
      "Corrupt JPEG data: 106 extraneous bytes before marker 0xd9\n"
     ]
    },
    {
     "name": "stdout",
     "output_type": "stream",
     "text": [
      "30/30 [==============================] - 11s 287ms/step - loss: 1.0113 - accuracy: 0.6209 - val_loss: 0.9539 - val_accuracy: 0.5974\n",
      "Epoch 10/20\n"
     ]
    },
    {
     "name": "stderr",
     "output_type": "stream",
     "text": [
      "Corrupt JPEG data: 166 extraneous bytes before marker 0xd9\n"
     ]
    },
    {
     "name": "stdout",
     "output_type": "stream",
     "text": [
      "16/30 [===============>..............] - ETA: 4s - loss: 1.0165 - accuracy: 0.5911"
     ]
    },
    {
     "name": "stderr",
     "output_type": "stream",
     "text": [
      "Corrupt JPEG data: 106 extraneous bytes before marker 0xd9\n"
     ]
    },
    {
     "name": "stdout",
     "output_type": "stream",
     "text": [
      "30/30 [==============================] - 11s 291ms/step - loss: 0.9912 - accuracy: 0.6037 - val_loss: 0.9121 - val_accuracy: 0.6364\n",
      "Epoch 11/20\n"
     ]
    },
    {
     "name": "stderr",
     "output_type": "stream",
     "text": [
      "Corrupt JPEG data: 166 extraneous bytes before marker 0xd9\n"
     ]
    },
    {
     "name": "stdout",
     "output_type": "stream",
     "text": [
      "16/30 [===============>..............] - ETA: 4s - loss: 0.9949 - accuracy: 0.6094"
     ]
    },
    {
     "name": "stderr",
     "output_type": "stream",
     "text": [
      "Corrupt JPEG data: 106 extraneous bytes before marker 0xd9\n"
     ]
    },
    {
     "name": "stdout",
     "output_type": "stream",
     "text": [
      "30/30 [==============================] - 11s 295ms/step - loss: 0.9444 - accuracy: 0.6309 - val_loss: 0.9916 - val_accuracy: 0.6234\n",
      "Epoch 12/20\n"
     ]
    },
    {
     "name": "stderr",
     "output_type": "stream",
     "text": [
      "Corrupt JPEG data: 166 extraneous bytes before marker 0xd9\n"
     ]
    },
    {
     "name": "stdout",
     "output_type": "stream",
     "text": [
      "16/30 [===============>..............] - ETA: 4s - loss: 0.9959 - accuracy: 0.6250"
     ]
    },
    {
     "name": "stderr",
     "output_type": "stream",
     "text": [
      "Corrupt JPEG data: 106 extraneous bytes before marker 0xd9\n"
     ]
    },
    {
     "name": "stdout",
     "output_type": "stream",
     "text": [
      "30/30 [==============================] - 11s 287ms/step - loss: 0.9757 - accuracy: 0.6295 - val_loss: 1.0854 - val_accuracy: 0.5844\n",
      "Epoch 13/20\n"
     ]
    },
    {
     "name": "stderr",
     "output_type": "stream",
     "text": [
      "Corrupt JPEG data: 166 extraneous bytes before marker 0xd9\n"
     ]
    },
    {
     "name": "stdout",
     "output_type": "stream",
     "text": [
      "16/30 [===============>..............] - ETA: 4s - loss: 0.9950 - accuracy: 0.5964"
     ]
    },
    {
     "name": "stderr",
     "output_type": "stream",
     "text": [
      "Corrupt JPEG data: 106 extraneous bytes before marker 0xd9\n"
     ]
    },
    {
     "name": "stdout",
     "output_type": "stream",
     "text": [
      "30/30 [==============================] - 11s 281ms/step - loss: 0.9729 - accuracy: 0.6152 - val_loss: 0.9975 - val_accuracy: 0.5844\n",
      "Epoch 14/20\n"
     ]
    },
    {
     "name": "stderr",
     "output_type": "stream",
     "text": [
      "Corrupt JPEG data: 166 extraneous bytes before marker 0xd9\n"
     ]
    },
    {
     "name": "stdout",
     "output_type": "stream",
     "text": [
      "16/30 [===============>..............] - ETA: 3s - loss: 0.9389 - accuracy: 0.6641"
     ]
    },
    {
     "name": "stderr",
     "output_type": "stream",
     "text": [
      "Corrupt JPEG data: 106 extraneous bytes before marker 0xd9\n"
     ]
    },
    {
     "name": "stdout",
     "output_type": "stream",
     "text": [
      "30/30 [==============================] - 10s 266ms/step - loss: 0.9398 - accuracy: 0.6423 - val_loss: 1.1315 - val_accuracy: 0.5844\n",
      "Epoch 15/20\n"
     ]
    },
    {
     "name": "stderr",
     "output_type": "stream",
     "text": [
      "Corrupt JPEG data: 166 extraneous bytes before marker 0xd9\n"
     ]
    },
    {
     "name": "stdout",
     "output_type": "stream",
     "text": [
      "16/30 [===============>..............] - ETA: 4s - loss: 0.9283 - accuracy: 0.6328"
     ]
    },
    {
     "name": "stderr",
     "output_type": "stream",
     "text": [
      "Corrupt JPEG data: 106 extraneous bytes before marker 0xd9\n"
     ]
    },
    {
     "name": "stdout",
     "output_type": "stream",
     "text": [
      "30/30 [==============================] - 10s 271ms/step - loss: 0.9307 - accuracy: 0.6423 - val_loss: 1.0152 - val_accuracy: 0.5974\n",
      "Epoch 16/20\n"
     ]
    },
    {
     "name": "stderr",
     "output_type": "stream",
     "text": [
      "Corrupt JPEG data: 166 extraneous bytes before marker 0xd9\n"
     ]
    },
    {
     "name": "stdout",
     "output_type": "stream",
     "text": [
      "16/30 [===============>..............] - ETA: 4s - loss: 0.9373 - accuracy: 0.6198"
     ]
    },
    {
     "name": "stderr",
     "output_type": "stream",
     "text": [
      "Corrupt JPEG data: 106 extraneous bytes before marker 0xd9\n"
     ]
    },
    {
     "name": "stdout",
     "output_type": "stream",
     "text": [
      "30/30 [==============================] - 10s 274ms/step - loss: 0.9439 - accuracy: 0.6252 - val_loss: 1.0022 - val_accuracy: 0.6104\n",
      "Epoch 17/20\n"
     ]
    },
    {
     "name": "stderr",
     "output_type": "stream",
     "text": [
      "Corrupt JPEG data: 166 extraneous bytes before marker 0xd9\n"
     ]
    },
    {
     "name": "stdout",
     "output_type": "stream",
     "text": [
      "16/30 [===============>..............] - ETA: 4s - loss: 0.9922 - accuracy: 0.6276"
     ]
    },
    {
     "name": "stderr",
     "output_type": "stream",
     "text": [
      "Corrupt JPEG data: 106 extraneous bytes before marker 0xd9\n"
     ]
    },
    {
     "name": "stdout",
     "output_type": "stream",
     "text": [
      "30/30 [==============================] - 10s 267ms/step - loss: 0.9714 - accuracy: 0.6280 - val_loss: 0.8676 - val_accuracy: 0.6494\n",
      "Epoch 18/20\n"
     ]
    },
    {
     "name": "stderr",
     "output_type": "stream",
     "text": [
      "Corrupt JPEG data: 166 extraneous bytes before marker 0xd9\n"
     ]
    },
    {
     "name": "stdout",
     "output_type": "stream",
     "text": [
      "16/30 [===============>..............] - ETA: 4s - loss: 0.9902 - accuracy: 0.6198"
     ]
    },
    {
     "name": "stderr",
     "output_type": "stream",
     "text": [
      "Corrupt JPEG data: 106 extraneous bytes before marker 0xd9\n"
     ]
    },
    {
     "name": "stdout",
     "output_type": "stream",
     "text": [
      "30/30 [==============================] - 10s 270ms/step - loss: 0.9348 - accuracy: 0.6366 - val_loss: 0.9290 - val_accuracy: 0.6234\n",
      "Epoch 19/20\n"
     ]
    },
    {
     "name": "stderr",
     "output_type": "stream",
     "text": [
      "Corrupt JPEG data: 166 extraneous bytes before marker 0xd9\n"
     ]
    },
    {
     "name": "stdout",
     "output_type": "stream",
     "text": [
      "17/30 [================>.............] - ETA: 4s - loss: 0.9209 - accuracy: 0.6324"
     ]
    },
    {
     "name": "stderr",
     "output_type": "stream",
     "text": [
      "Corrupt JPEG data: 106 extraneous bytes before marker 0xd9\n"
     ]
    },
    {
     "name": "stdout",
     "output_type": "stream",
     "text": [
      "30/30 [==============================] - 11s 308ms/step - loss: 0.8995 - accuracy: 0.6495 - val_loss: 1.1712 - val_accuracy: 0.6104\n",
      "Epoch 20/20\n"
     ]
    },
    {
     "name": "stderr",
     "output_type": "stream",
     "text": [
      "Corrupt JPEG data: 166 extraneous bytes before marker 0xd9\n"
     ]
    },
    {
     "name": "stdout",
     "output_type": "stream",
     "text": [
      "16/30 [===============>..............] - ETA: 5s - loss: 0.9532 - accuracy: 0.6536"
     ]
    },
    {
     "name": "stderr",
     "output_type": "stream",
     "text": [
      "Corrupt JPEG data: 106 extraneous bytes before marker 0xd9\n"
     ]
    },
    {
     "name": "stdout",
     "output_type": "stream",
     "text": [
      "30/30 [==============================] - 12s 309ms/step - loss: 0.9199 - accuracy: 0.6595 - val_loss: 0.9136 - val_accuracy: 0.6364\n"
     ]
    }
   ],
   "source": [
    "# MODEL IN TRAINING\n",
    "# Utilising the previously prepared and processed datasets specifying 20 epochs for training\n",
    "# An epoch represents one complete pass of the entire dataset through the model\n",
    "result = model.fit(\n",
    "    normalized_train_dataset,\n",
    "    validation_data=normalized_test_dataset,\n",
    "    # In this case, the model will undergo training for a total of 20 epochs\n",
    "    epochs=20\n",
    ")"
   ]
  },
  {
   "cell_type": "code",
   "execution_count": 22,
   "id": "a040799e-224a-4ef3-92b7-86d37254fa4d",
   "metadata": {},
   "outputs": [
    {
     "name": "stdout",
     "output_type": "stream",
     "text": [
      "4/4 [==============================] - 1s 26ms/step - loss: 0.9136 - accuracy: 0.6364\n",
      "test loss:  0.9135760068893433\n",
      "test accuracy:  0.6363636255264282\n"
     ]
    }
   ],
   "source": [
    "# MODEL EVALUATION\n",
    "results = model.evaluate(normalized_test_dataset)\n",
    "print(\"test loss: \", results[0])\n",
    "print(\"test accuracy: \", results[1])\n"
   ]
  },
  {
   "cell_type": "markdown",
   "id": "dd5f5871-8e00-4150-acb9-c95ca610d295",
   "metadata": {},
   "source": [
    "Evaluation over the Dataset: The \"4/4\" means that the evaluation was done over 4 batches. This implies that the test dataset was divided into four parts for the evaluation process.\n",
    "\n",
    "Test Loss: The loss value is 0.9136, which is a measure of how well the model is performing. A loss value means the difference between the predicted values and the actual values. In this context, a lower loss value is preferable, as it indicates a smaller discrepancy between predictions and true labels. \n",
    "    \n",
    "Test Accuracy: 63.6% means the proportion of the test dataset that the model can classify the images correctly. While this is significantly better than random guessing (especially if there are more than two classes), it may not be considered high accuracy in many applications, meaning that the model's predictive performance could be improved.\n",
    "\n",
    "In general, what I am looking for is to see as epochs increase is the training loss going down and the training accuracy going up, along with the validation loss decreasing and the validation accuracy increasing. However, my model's accuracy does not significantly improve after the first few epochs, and the validation loss has some fluctuation. This could mean that my model might not be learning effectively or that it has reached its capacity with the current hyperparameters.  "
   ]
  },
  {
   "cell_type": "code",
   "execution_count": 27,
   "id": "17621fe0-5ca8-4967-b1f5-0affe52c5fc8",
   "metadata": {},
   "outputs": [
    {
     "data": {
      "image/png": "[encoded data removed]",
      "text/plain": [
       "<Figure size 1200x400 with 2 Axes>"
      ]
     },
     "metadata": {},
     "output_type": "display_data"
    }
   ],
   "source": [
    "# PLOTTING FOR FURTHER EVALUATION \n",
    "\n",
    "# The values I want to look at are the acuracy on training and validation data\n",
    "# I want to make sure that the two values are not too far apart and that they have a stable augmentation during training\n",
    "\n",
    "# Set up figure for plotting with a size 12x4 inches\n",
    "plt.figure(figsize=(12, 4))\n",
    "\n",
    "# Create a subplot for accuracy\n",
    "plt.subplot(1, 2, 1)\n",
    "\n",
    "# Plot the training accuracy retreived from the model \n",
    "plt.plot(result.history['accuracy'], label='Training Accuracy')\n",
    "\n",
    "# Plot the validation accuracy for comparison\n",
    "plt.plot(result.history['val_accuracy'], label='Validation Accuracy')\n",
    "\n",
    "# Labelling for the accuracy graph\n",
    "plt.title('Training and Validation Accuracy')\n",
    "plt.xlabel('Epochs')\n",
    "plt.ylabel('Accuracy')\n",
    "plt.legend()\n",
    "\n",
    "# Loss plot\n",
    "plt.subplot(1, 2, 2)\n",
    "\n",
    "# Plot the loss training retreived from the model \n",
    "plt.plot(result.history['loss'], label='Training Loss')\n",
    "\n",
    "# Plot the validation loss for comparison.\n",
    "plt.plot(result.history['val_loss'], label='Validation Loss')\n",
    "\n",
    "# Labelling for the loss graph\n",
    "plt.title('Training and Validation Loss')\n",
    "plt.xlabel('Epochs')\n",
    "plt.ylabel('Loss')\n",
    "plt.legend()\n",
    "\n",
    "# Execute it \n",
    "plt.show()"
   ]
  },
  {
   "cell_type": "markdown",
   "id": "3f8f2fb3-955a-43f1-9f70-e7a6d5e4a8a3",
   "metadata": {},
   "source": [
    "These graphs shows the training and validation accuracy and loss over a number of training epochs for a machine learning model. It helps in understanding how the model is learning and how well it understands to new unseen data. The two plots provide a clear and comparative view of the model's performance throughout the training process.\n",
    "\n",
    "Training and Validation Accuracy:\n",
    "The training accuracy is increasing over time, which means model is learning from the training data and improves its ability to predict the correct class labels (bicycles, cars, deer and mountains) over time. The validation accuracy is following the training accuracy to some extent but is overall lower and shows some fluctuations. This may mean the model might be fitting the training data well but struggling to achieve the same level of performance on unseen data, due to overfitting.\n",
    "\n",
    "Training and Validation Loss:\n",
    "The training loss is decreasing, which is expected as the model optimises its weights.\n",
    "The validation loss, although decreasing overall, shows some spikes. The spikes in validation loss also suggest that the model's performance on the validation set is inconsistent.\n",
    "\n",
    "Overfitting:\n",
    "The discrepancy between the training and validation performance with training scores better than validation, may mean the model is overfitting. Essentially, the model is memorising rather than learning to generalise from the training set, which limits its predictivness on unseen data.\n",
    "\n",
    "To improve:\n",
    "To improve the model, I can increase the dropout rate or collecting more varied training data. Or use techniques like cross-validation to ensure that the validation metrics are reliable and to perform hyperparameter tuning like adjusting the learning rate, changing the optimiser to find the best settings for the model. Or Increase data augmentation, which helps the model generalise better. Or early stopping, to prevent the model from continuing to train once the validation loss stops improving, reducing overfitting."
   ]
  },
  {
   "cell_type": "code",
   "execution_count": 32,
   "id": "a696d5e9-ad0c-4af9-a94c-462eda6afd62",
   "metadata": {},
   "outputs": [
    {
     "name": "stdout",
     "output_type": "stream",
     "text": [
      "INFO:tensorflow:Assets written to: ./model/assets\n"
     ]
    },
    {
     "name": "stderr",
     "output_type": "stream",
     "text": [
      "INFO:tensorflow:Assets written to: ./model/assets\n"
     ]
    }
   ],
   "source": [
    "# Save the model for question 3 (input question)\n",
    "model.save(\"./model/\")"
   ]
  }
 ],
 "metadata": {
  "kernelspec": {
   "display_name": "Python 3 (ipykernel)",
   "language": "python",
   "name": "python3"
  },
  "language_info": {
   "codemirror_mode": {
    "name": "ipython",
    "version": 3
   },
   "file_extension": ".py",
   "mimetype": "text/x-python",
   "name": "python",
   "nbconvert_exporter": "python",
   "pygments_lexer": "ipython3",
   "version": "3.12.7"
  }
 },
 "nbformat": 4,
 "nbformat_minor": 5
}
