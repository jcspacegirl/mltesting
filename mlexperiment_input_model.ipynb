{
 "cells": [
  {
   "cell_type": "code",
   "execution_count": 28,
   "id": "bb2a5990-f82f-4893-965d-cac26a3265b6",
   "metadata": {},
   "outputs": [],
   "source": [
    "# INPUT AN IMAGE TO TEST OUT MODEL"
   ]
  },
  {
   "cell_type": "code",
   "execution_count": 29,
   "id": "81355e47-ab8d-4da5-95d6-0426aa5dba3b",
   "metadata": {},
   "outputs": [],
   "source": [
    "import tensorflow as tf\n",
    "from tensorflow.keras.models import load_model\n",
    "from tensorflow.keras.preprocessing import image\n",
    "import numpy as np"
   ]
  },
  {
   "cell_type": "code",
   "execution_count": 30,
   "id": "56f5e3db-48fc-4159-9fc4-9a4e5fd6f38a",
   "metadata": {},
   "outputs": [],
   "source": [
    "# Load the model I made just now\n",
    "model = load_model(\"./model\")"
   ]
  },
  {
   "cell_type": "code",
   "execution_count": 33,
   "id": "6854bd35-eeb1-480f-8ea2-dcb0b1acfe86",
   "metadata": {},
   "outputs": [
    {
     "name": "stdout",
     "output_type": "stream",
     "text": [
      "1/1 [==============================] - 0s 17ms/step\n",
      "Predicted Class: [0]\n"
     ]
    }
   ],
   "source": [
    "# \"A separate program be written that can accept an image not previously included in the dataset and classification be performed on it using the trained model.\"\n",
    "\n",
    "# Function to preprocess the image and predict its class\n",
    "def classify_image(img_path):\n",
    "    # Load and preprocess the image\n",
    "    # Remember, 150, 150 pixel size\n",
    "    img = image.load_img(img_path, target_size=(150, 150))  \n",
    "    img_array = image.img_to_array(img)\n",
    "    # Create a batch\n",
    "    img_array = tf.expand_dims(img_array, 0) \n",
    "    # Make predictions\n",
    "    predictions = model.predict(img_array)\n",
    "    predicted_class = np.argmax(predictions, axis=1)\n",
    "    return predicted_class\n",
    "\n",
    "# INPUT YOUR OWN IMAGE BELOW:\n",
    "# I've tested out with an image of a bicycle\n",
    "img_path = '959600000788-1.jpg'\n",
    "prediction = classify_image(img_path)\n",
    "print(f\"Predicted Class: {prediction}\")\n",
    "# CLASS 0 is Bicycle\n",
    "# CLASS 1 is Cars\n",
    "# CLASS 2 is Deer\n",
    "# ClASS 3 is MountainS"
   ]
  },
  {
   "cell_type": "code",
   "execution_count": null,
   "id": "375a6325-35de-427b-9db0-70ab0cc221f1",
   "metadata": {},
   "outputs": [],
   "source": []
  }
 ],
 "metadata": {
  "kernelspec": {
   "display_name": "Python 3 (ipykernel)",
   "language": "python",
   "name": "python3"
  },
  "language_info": {
   "codemirror_mode": {
    "name": "ipython",
    "version": 3
   },
   "file_extension": ".py",
   "mimetype": "text/x-python",
   "name": "python",
   "nbconvert_exporter": "python",
   "pygments_lexer": "ipython3",
   "version": "3.12.7"
  }
 },
 "nbformat": 4,
 "nbformat_minor": 5
}
